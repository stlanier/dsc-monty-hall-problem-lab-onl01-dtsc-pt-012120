{
 "cells": [
  {
   "cell_type": "markdown",
   "metadata": {},
   "source": [
    "# The Monty Hall Problem\n",
    "\n",
    "## Introduction\n",
    "\n",
    "The Monty Hall problem is a famous little puzzle from a game show. It goes like this: you are presented with 3 doors. Behind two are goats and behind the third is a car. You are asked to select a door; if you select the door with the car, you win! After selecting, the host then opens one of the remaining two doors, revealing a goat. The host then asks if you would like to switch doors or stick with your original choice. What would you do? Does it matter?\n",
    "\n",
    "<img src=\"images/Image_58_MontyHall.png\">\n",
    "\n",
    "## Objectives\n",
    "\n",
    "In this lab you will:\n",
    "\n",
    "- Use Bayes' theorem along with a simulation to solve the Monty Hall problem"
   ]
  },
  {
   "cell_type": "markdown",
   "metadata": {},
   "source": [
    "## Run a simulation\n",
    "\n",
    "This is not a traditional application of Bayes' theorem, so trying to formulate the problem as such is tricky at best. That said, the scenario does capture the motivating conception behind Bayesian statistics: updating our beliefs in the face of additional evidence. With this, you'll employ another frequently used tool Bayesians frequently employ, running simulations. To do this, generate a random integer between one and three to represent the door hiding the car. Then, generate a second integer between one and three representing the player's selection. Then, of those the contestant did not choose, select a door concealing a goat to reveal. Record the results of the simulated game if they changed versus if they did not. Repeat this process a thousand (or more) times. Finally, plot the results of your simulation as a line graph. The x-axis should be the number of simulations, and the y-axis should be the probability of winning. (There should be two lines on the graph, one for switching doors, and the other for keeping the original selection.)"
   ]
  },
  {
   "cell_type": "code",
   "execution_count": 54,
   "metadata": {},
   "outputs": [],
   "source": [
    "import numpy as np\n",
    "\n",
    "sims = {}\n",
    "\n",
    "for i in np.arange(1, 10000, 100):\n",
    "    no_change = []\n",
    "    change = []\n",
    "    for j in range(i):\n",
    "        choices = [1, 2, 3]\n",
    "        car = np.random.randint(low=1, high=4)\n",
    "        first_choice = np.random.randint(low=1, high=4)\n",
    "        for item in set([car, first_choice]):\n",
    "            choices.remove(item)\n",
    "        show = choices[0]\n",
    "        no_change.append(car==first_choice)\n",
    "        change.append(car==(6-first_choice-show))\n",
    "    sims[i]=(sum(no_change)/len(no_change), sum(change)/len(change))\n"
   ]
  },
  {
   "cell_type": "code",
   "execution_count": 55,
   "metadata": {},
   "outputs": [
    {
     "data": {
      "text/plain": [
       "{1: (0.0, 1.0),\n",
       " 101: (0.3564356435643564, 0.6435643564356436),\n",
       " 201: (0.32338308457711445, 0.6766169154228856),\n",
       " 301: (0.3687707641196013, 0.6312292358803987),\n",
       " 401: (0.33665835411471323, 0.6633416458852868),\n",
       " 501: (0.30538922155688625, 0.6946107784431138),\n",
       " 601: (0.33610648918469216, 0.6638935108153078),\n",
       " 701: (0.3437945791726106, 0.6562054208273894),\n",
       " 801: (0.3495630461922597, 0.6504369538077404),\n",
       " 901: (0.33851276359600446, 0.6614872364039955),\n",
       " 1001: (0.3516483516483517, 0.6483516483516484),\n",
       " 1101: (0.3315168029064487, 0.6684831970935513),\n",
       " 1201: (0.3205661948376353, 0.6794338051623647),\n",
       " 1301: (0.3297463489623367, 0.6702536510376633),\n",
       " 1401: (0.3361884368308351, 0.6638115631691649),\n",
       " 1501: (0.3391072618254497, 0.6608927381745503),\n",
       " 1601: (0.34166146158650845, 0.6583385384134915),\n",
       " 1701: (0.3303938859494415, 0.6696061140505585),\n",
       " 1801: (0.3559133814547474, 0.6440866185452526),\n",
       " 1901: (0.3498158863755918, 0.6501841136244082),\n",
       " 2001: (0.31984007996002, 0.68015992003998),\n",
       " 2101: (0.33603046168491196, 0.6639695383150881),\n",
       " 2201: (0.3307587460245343, 0.6692412539754657),\n",
       " 2301: (0.3376792698826597, 0.6623207301173403),\n",
       " 2401: (0.331945022907122, 0.668054977092878),\n",
       " 2501: (0.3426629348260696, 0.6573370651739304),\n",
       " 2601: (0.32987312572087657, 0.6701268742791234),\n",
       " 2701: (0.3313587560162903, 0.6686412439837097),\n",
       " 2801: (0.3391645840771153, 0.6608354159228846),\n",
       " 2901: (0.3564288176490865, 0.6435711823509135),\n",
       " 3001: (0.3242252582472509, 0.6757747417527491),\n",
       " 3101: (0.33537568526281847, 0.6646243147371815),\n",
       " 3201: (0.3280224929709466, 0.6719775070290535),\n",
       " 3301: (0.3356558618600424, 0.6643441381399576),\n",
       " 3401: (0.31431931784769185, 0.6856806821523082),\n",
       " 3501: (0.3439017423593259, 0.6560982576406741),\n",
       " 3601: (0.3312968619827826, 0.6687031380172175),\n",
       " 3701: (0.3342339908132937, 0.6657660091867063),\n",
       " 3801: (0.34017363851617993, 0.65982636148382),\n",
       " 3901: (0.35426813637528837, 0.6457318636247116),\n",
       " 4001: (0.3261684578855286, 0.6738315421144714),\n",
       " 4101: (0.3272372592050719, 0.672762740794928),\n",
       " 4201: (0.33134967864794096, 0.668650321352059),\n",
       " 4301: (0.32248314345501045, 0.6775168565449895),\n",
       " 4401: (0.3371960917973188, 0.6628039082026812),\n",
       " 4501: (0.32948233725838705, 0.670517662741613),\n",
       " 4601: (0.32275592262551617, 0.6772440773744838),\n",
       " 4701: (0.3363114231014678, 0.6636885768985322),\n",
       " 4801: (0.32993126431993336, 0.6700687356800666),\n",
       " 4901: (0.34135890634564375, 0.6586410936543563),\n",
       " 5001: (0.32993401319736054, 0.6700659868026395),\n",
       " 5101: (0.3307194667712213, 0.6692805332287787),\n",
       " 5201: (0.32935973851182465, 0.6706402614881753),\n",
       " 5301: (0.32729673646481794, 0.6727032635351821),\n",
       " 5401: (0.3410479540825773, 0.6589520459174227),\n",
       " 5501: (0.34375568078531177, 0.6562443192146883),\n",
       " 5601: (0.3345831101589002, 0.6654168898410998),\n",
       " 5701: (0.329240484125592, 0.670759515874408),\n",
       " 5801: (0.32908119289777626, 0.6709188071022237),\n",
       " 5901: (0.33468903575665143, 0.6653109642433486),\n",
       " 6001: (0.33361106482252956, 0.6663889351774704),\n",
       " 6101: (0.33174889362399607, 0.6682511063760039),\n",
       " 6201: (0.32914046121593293, 0.6708595387840671),\n",
       " 6301: (0.32883669258847803, 0.671163307411522),\n",
       " 6401: (0.33963443211998123, 0.6603655678800188),\n",
       " 6501: (0.33933241039840023, 0.6606675896015998),\n",
       " 6601: (0.32949553098015455, 0.6705044690198455),\n",
       " 6701: (0.32890613341292346, 0.6710938665870766),\n",
       " 6801: (0.3336274077341567, 0.6663725922658432),\n",
       " 6901: (0.334444283437183, 0.665555716562817),\n",
       " 7001: (0.32609627196114843, 0.6739037280388516),\n",
       " 7101: (0.3275594986621603, 0.6724405013378397),\n",
       " 7201: (0.3359255658936259, 0.6640744341063741),\n",
       " 7301: (0.3351595671825777, 0.6648404328174222),\n",
       " 7401: (0.34117011214700715, 0.6588298878529928),\n",
       " 7501: (0.328089588054926, 0.671910411945074),\n",
       " 7601: (0.3335087488488357, 0.6664912511511644),\n",
       " 7701: (0.3350214257888586, 0.6649785742111414),\n",
       " 7801: (0.34393026535059606, 0.6560697346494039),\n",
       " 7901: (0.32261739020377167, 0.6773826097962283),\n",
       " 8001: (0.33645794275715535, 0.6635420572428447),\n",
       " 8101: (0.3288482903345266, 0.6711517096654734),\n",
       " 8201: (0.3323984879892696, 0.6676015120107304),\n",
       " 8301: (0.3299602457535237, 0.6700397542464763),\n",
       " 8401: (0.32543744792286633, 0.6745625520771337),\n",
       " 8501: (0.33478414304199505, 0.6652158569580049),\n",
       " 8601: (0.3315893500755726, 0.6684106499244274),\n",
       " 8701: (0.32904263877715206, 0.670957361222848),\n",
       " 8801: (0.33166685603908647, 0.6683331439609135),\n",
       " 8901: (0.33456914953376027, 0.6654308504662397),\n",
       " 9001: (0.3301855349405622, 0.6698144650594379),\n",
       " 9101: (0.3428194703878695, 0.6571805296121306),\n",
       " 9201: (0.3356156939463102, 0.6643843060536898),\n",
       " 9301: (0.3341576174604881, 0.6658423825395119),\n",
       " 9401: (0.3315604722901819, 0.6684395277098181),\n",
       " 9501: (0.3310177876013051, 0.6689822123986948),\n",
       " 9601: (0.34173523591292576, 0.6582647640870742),\n",
       " 9701: (0.3426450881352438, 0.6573549118647563),\n",
       " 9801: (0.32945617794102644, 0.6705438220589736),\n",
       " 9901: (0.3402686597313403, 0.6597313402686598)}"
      ]
     },
     "execution_count": 55,
     "metadata": {},
     "output_type": "execute_result"
    }
   ],
   "source": [
    "sims"
   ]
  },
  {
   "cell_type": "code",
   "execution_count": 70,
   "metadata": {},
   "outputs": [
    {
     "data": {
      "text/plain": [
       "<matplotlib.legend.Legend at 0x11b86ab38>"
      ]
     },
     "execution_count": 70,
     "metadata": {},
     "output_type": "execute_result"
    },
    {
     "data": {
      "image/png": "[encoded data removed]",
      "text/plain": [
       "<Figure size 432x288 with 1 Axes>"
      ]
     },
     "metadata": {
      "needs_background": "light"
     },
     "output_type": "display_data"
    }
   ],
   "source": [
    "import pandas as pd\n",
    "import matplotlib.pyplot as plt\n",
    "%matplotlib inline\n",
    "\n",
    "df = pd.DataFrame.from_dict(sims).transpose()\n",
    "df.columns = ['no_change', 'change']\n",
    "df.no_change.plot(label=\"No Change\")\n",
    "df.change.plot(label='Change')\n",
    "plt.legend()"
   ]
  },
  {
   "cell_type": "markdown",
   "metadata": {},
   "source": [
    "## Summary\n",
    "\n",
    "In this lab, you further investigated the idea of Bayes' theorem and Bayesian statistics in general through the Monty Hall problem. Hopefully, this was an entertaining little experience! "
   ]
  }
 ],
 "metadata": {
  "kernelspec": {
   "display_name": "Python 3",
   "language": "python",
   "name": "python3"
  },
  "language_info": {
   "codemirror_mode": {
    "name": "ipython",
    "version": 3
   },
   "file_extension": ".py",
   "mimetype": "text/x-python",
   "name": "python",
   "nbconvert_exporter": "python",
   "pygments_lexer": "ipython3",
   "version": "3.6.9"
  },
  "toc": {
   "base_numbering": 1,
   "nav_menu": {},
   "number_sections": true,
   "sideBar": true,
   "skip_h1_title": false,
   "title_cell": "Table of Contents",
   "title_sidebar": "Contents",
   "toc_cell": false,
   "toc_position": {},
   "toc_section_display": true,
   "toc_window_display": false
  }
 },
 "nbformat": 4,
 "nbformat_minor": 2
}
